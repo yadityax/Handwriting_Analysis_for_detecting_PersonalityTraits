{
 "cells": [
  {
   "cell_type": "code",
   "execution_count": 15,
   "id": "d18667db",
   "metadata": {},
   "outputs": [],
   "source": [
    "from sklearn import datasets\n",
    "from sklearn.model_selection import train_test_split\n",
    "from sklearn.model_selection import GridSearchCV\n",
    "from sklearn.metrics import classification_report\n",
    "from sklearn.svm import SVC\n",
    "import pandas as pd\n",
    "import numpy as np\n",
    "from sklearn.metrics import confusion_matrix\n"
   ]
  },
  {
   "cell_type": "code",
   "execution_count": 31,
   "id": "cddb4369",
   "metadata": {},
   "outputs": [],
   "source": [
    "\n",
    "data = pd.read_csv('dataset.csv')\n",
    "data1 = pd.read_csv('datasetb.csv')\n",
    "x,y = data1.shape\n",
    "m, n = data.shape\n",
    "\n",
    "class_label_zone = np.array([[]])\n",
    "class_label_pressure = np.array([[]])\n",
    "class_label_margin = np.array([[]])\n",
    "class_label_size = np.array([[]])\n"
   ]
  },
  {
   "cell_type": "code",
   "execution_count": 32,
   "id": "6574ee1a",
   "metadata": {},
   "outputs": [
    {
     "data": {
      "text/plain": [
       "4"
      ]
     },
     "execution_count": 32,
     "metadata": {},
     "output_type": "execute_result"
    }
   ],
   "source": [
    "y"
   ]
  },
  {
   "cell_type": "code",
   "execution_count": 33,
   "id": "d0307776",
   "metadata": {},
   "outputs": [],
   "source": [
    "for i in range(m):\n",
    "        if data.iloc[i]['Pressure'] == \"Heavy\":\n",
    "            class_label_pressure = np.append(class_label_pressure, [1])\n",
    "        elif data.iloc[i]['Pressure'] == \"Medium\":\n",
    "            class_label_pressure = np.append(class_label_pressure, [2])\n",
    "        elif data.iloc[i]['Pressure'] == \"Light\":\n",
    "            class_label_pressure = np.append(class_label_pressure, [3])\n",
    "\n",
    "            \n",
    "for i in range(m):\n",
    "        if data.iloc[i]['Zone'] == \"Above\":\n",
    "            class_label_zone = np.append(class_label_zone, [1])\n",
    "        elif data.iloc[i]['Zone'] == \"Middle\":\n",
    "            class_label_zone = np.append(class_label_zone, [2])\n",
    "        elif data.iloc[i]['Zone'] == \"Below\":\n",
    "            class_label_zone = np.append(class_label_zone, [3])\n",
    "\n",
    "for i in range(x):\n",
    "        if data1.iloc[i]['Top_Margin'] == \"NARROW\":\n",
    "            class_label_margin = np.append(class_label_margin, [1])\n",
    "        elif data1.iloc[i]['Top_Margin'] == \"BIG\":\n",
    "            class_label_margin = np.append(class_label_margin, [2])\n",
    "        \n",
    "for i in range(x):\n",
    "    if data1.iloc[i]['Letter_Size'] == \"SMALL\":\n",
    "        class_label_size = np.append(class_label_size, [1])\n",
    "    elif data1.iloc[i]['Letter_Size'] == \"MEDIUM\":\n",
    "        class_label_size = np.append(class_label_size, [2])\n",
    "    elif data1.iloc[i]['Letter_Size'] == \"BIG\":\n",
    "        class_label_size = np.append(class_label_size, [3])"
   ]
  },
  {
   "cell_type": "code",
   "execution_count": 34,
   "id": "7f0e57a2",
   "metadata": {},
   "outputs": [
    {
     "data": {
      "text/plain": [
       "(1533,)"
      ]
     },
     "execution_count": 34,
     "metadata": {},
     "output_type": "execute_result"
    }
   ],
   "source": [
    "class_label_size.shape"
   ]
  },
  {
   "cell_type": "code",
   "execution_count": 35,
   "id": "d60d939c",
   "metadata": {},
   "outputs": [
    {
     "data": {
      "text/plain": [
       "(1533,)"
      ]
     },
     "execution_count": 35,
     "metadata": {},
     "output_type": "execute_result"
    }
   ],
   "source": [
    "class_label_margin.shape"
   ]
  },
  {
   "cell_type": "code",
   "execution_count": 36,
   "id": "9a95c62f",
   "metadata": {},
   "outputs": [],
   "source": [
    "# Extract features and labels\n",
    "X_pre = data[['Average']]\n",
    "X_zone = data[['Zone Above', 'Zone Middle', 'Zone Below']]\n",
    "X_margin = data1[['margin']]\n",
    "X_size = data1[['size']]\n",
    "y_pressure = class_label_pressure\n",
    "y_zone = class_label_zone\n",
    "y_margin = class_label_margin\n",
    "y_size = class_label_size\n",
    "# Split the data into training and testing sets\n",
    "X_train_pre, X_test_pre, y_train_pressure, y_test_pressure = train_test_split(X_pre, y_pressure, test_size=0.2, random_state=42)\n",
    "X_train_zone, X_test_zone, y_train_zone, y_test_zone = train_test_split(X_zone, y_zone, test_size=0.2, random_state=42)\n",
    "X_train_margin, X_test_margin, y_train_margin, y_test_margin = train_test_split(X_margin, y_margin, test_size=0.2, random_state=42)\n",
    "X_train_size, X_test_size, y_train_size, y_test_size = train_test_split(X_size, y_size, test_size=0.2, random_state=42)\n",
    "\n",
    "\n",
    "# Set the parameters by cross-validation\n",
    "tuned_parameters = [{'kernel': ['rbf'], 'gamma': [1e-3, 1e-4],\n",
    "                     'C': [1, 10, 100, 1000]},\n",
    "                    {'kernel': ['linear'], 'C': [1, 10, 100, 1000]}]\n"
   ]
  },
  {
   "cell_type": "code",
   "execution_count": null,
   "id": "1860e8f1",
   "metadata": {},
   "outputs": [],
   "source": [
    "#GRID SEARCH FOR PRESSURE"
   ]
  },
  {
   "cell_type": "code",
   "execution_count": 37,
   "id": "e374d914",
   "metadata": {},
   "outputs": [
    {
     "name": "stdout",
     "output_type": "stream",
     "text": [
      "# Tuning hyper-parameters for precision\n",
      "\n",
      "\n",
      "\n",
      "Grid scores on development set:\n",
      "\n",
      "0.984 (+/-0.017) for {'C': 1, 'gamma': 0.001, 'kernel': 'rbf'}\n",
      "0.979 (+/-0.014) for {'C': 1, 'gamma': 0.0001, 'kernel': 'rbf'}\n",
      "0.988 (+/-0.017) for {'C': 10, 'gamma': 0.001, 'kernel': 'rbf'}\n",
      "0.985 (+/-0.016) for {'C': 10, 'gamma': 0.0001, 'kernel': 'rbf'}\n",
      "0.986 (+/-0.017) for {'C': 100, 'gamma': 0.001, 'kernel': 'rbf'}\n",
      "0.988 (+/-0.017) for {'C': 100, 'gamma': 0.0001, 'kernel': 'rbf'}\n",
      "0.989 (+/-0.011) for {'C': 1000, 'gamma': 0.001, 'kernel': 'rbf'}\n",
      "0.986 (+/-0.017) for {'C': 1000, 'gamma': 0.0001, 'kernel': 'rbf'}\n",
      "0.989 (+/-0.011) for {'C': 1, 'kernel': 'linear'}\n",
      "0.989 (+/-0.011) for {'C': 10, 'kernel': 'linear'}\n",
      "0.990 (+/-0.012) for {'C': 100, 'kernel': 'linear'}\n",
      "0.991 (+/-0.009) for {'C': 1000, 'kernel': 'linear'}\n",
      "\n",
      "# Tuning hyper-parameters for recall\n",
      "\n",
      "\n",
      "\n",
      "Grid scores on development set:\n",
      "\n",
      "0.984 (+/-0.017) for {'C': 1, 'gamma': 0.001, 'kernel': 'rbf'}\n",
      "0.978 (+/-0.014) for {'C': 1, 'gamma': 0.0001, 'kernel': 'rbf'}\n",
      "0.988 (+/-0.018) for {'C': 10, 'gamma': 0.001, 'kernel': 'rbf'}\n",
      "0.984 (+/-0.016) for {'C': 10, 'gamma': 0.0001, 'kernel': 'rbf'}\n",
      "0.986 (+/-0.017) for {'C': 100, 'gamma': 0.001, 'kernel': 'rbf'}\n",
      "0.988 (+/-0.018) for {'C': 100, 'gamma': 0.0001, 'kernel': 'rbf'}\n",
      "0.989 (+/-0.011) for {'C': 1000, 'gamma': 0.001, 'kernel': 'rbf'}\n",
      "0.986 (+/-0.017) for {'C': 1000, 'gamma': 0.0001, 'kernel': 'rbf'}\n",
      "0.989 (+/-0.011) for {'C': 1, 'kernel': 'linear'}\n",
      "0.989 (+/-0.011) for {'C': 10, 'kernel': 'linear'}\n",
      "0.990 (+/-0.012) for {'C': 100, 'kernel': 'linear'}\n",
      "0.991 (+/-0.009) for {'C': 1000, 'kernel': 'linear'}\n",
      "\n"
     ]
    }
   ],
   "source": [
    "\n",
    "scores = ['precision', 'recall']\n",
    "\n",
    "for score in scores:\n",
    "    print(\"# Tuning hyper-parameters for %s\" % score)\n",
    "    print()\n",
    "\n",
    "    clf = GridSearchCV(\n",
    "        SVC(), tuned_parameters, scoring='%s_macro' % score\n",
    "    )\n",
    "    clf.fit(X_train_pre, y_train_pressure)\n",
    "\n",
    "    print()\n",
    "    print()\n",
    "    print(\"Grid scores on development set:\")\n",
    "    print()\n",
    "    means = clf.cv_results_['mean_test_score']\n",
    "    stds = clf.cv_results_['std_test_score']\n",
    "    for mean, std, params in zip(means, stds, clf.cv_results_['params']):\n",
    "        print(\"%0.3f (+/-%0.03f) for %r\"\n",
    "              % (mean, std * 2, params))\n",
    "    print()\n",
    "\n"
   ]
  },
  {
   "cell_type": "code",
   "execution_count": null,
   "id": "06e0a46f",
   "metadata": {},
   "outputs": [],
   "source": [
    "#GRID SEARCH FOR ZONE\n"
   ]
  },
  {
   "cell_type": "code",
   "execution_count": 38,
   "id": "478cd896",
   "metadata": {},
   "outputs": [
    {
     "name": "stdout",
     "output_type": "stream",
     "text": [
      "# Tuning hyper-parameters for precision\n",
      "\n",
      "\n",
      "\n",
      "Grid scores on development set:\n",
      "\n",
      "0.965 (+/-0.009) for {'C': 1, 'gamma': 0.001, 'kernel': 'rbf'}\n",
      "0.942 (+/-0.015) for {'C': 1, 'gamma': 0.0001, 'kernel': 'rbf'}\n",
      "0.978 (+/-0.023) for {'C': 10, 'gamma': 0.001, 'kernel': 'rbf'}\n",
      "0.974 (+/-0.017) for {'C': 10, 'gamma': 0.0001, 'kernel': 'rbf'}\n",
      "0.981 (+/-0.012) for {'C': 100, 'gamma': 0.001, 'kernel': 'rbf'}\n",
      "0.989 (+/-0.011) for {'C': 100, 'gamma': 0.0001, 'kernel': 'rbf'}\n",
      "0.986 (+/-0.015) for {'C': 1000, 'gamma': 0.001, 'kernel': 'rbf'}\n",
      "0.987 (+/-0.013) for {'C': 1000, 'gamma': 0.0001, 'kernel': 'rbf'}\n",
      "0.997 (+/-0.005) for {'C': 1, 'kernel': 'linear'}\n",
      "0.996 (+/-0.013) for {'C': 10, 'kernel': 'linear'}\n",
      "0.998 (+/-0.003) for {'C': 100, 'kernel': 'linear'}\n",
      "0.998 (+/-0.003) for {'C': 1000, 'kernel': 'linear'}\n",
      "\n",
      "# Tuning hyper-parameters for recall\n",
      "\n",
      "\n",
      "\n",
      "Grid scores on development set:\n",
      "\n",
      "0.964 (+/-0.009) for {'C': 1, 'gamma': 0.001, 'kernel': 'rbf'}\n",
      "0.941 (+/-0.015) for {'C': 1, 'gamma': 0.0001, 'kernel': 'rbf'}\n",
      "0.978 (+/-0.023) for {'C': 10, 'gamma': 0.001, 'kernel': 'rbf'}\n",
      "0.974 (+/-0.017) for {'C': 10, 'gamma': 0.0001, 'kernel': 'rbf'}\n",
      "0.980 (+/-0.013) for {'C': 100, 'gamma': 0.001, 'kernel': 'rbf'}\n",
      "0.988 (+/-0.011) for {'C': 100, 'gamma': 0.0001, 'kernel': 'rbf'}\n",
      "0.986 (+/-0.015) for {'C': 1000, 'gamma': 0.001, 'kernel': 'rbf'}\n",
      "0.987 (+/-0.013) for {'C': 1000, 'gamma': 0.0001, 'kernel': 'rbf'}\n",
      "0.997 (+/-0.005) for {'C': 1, 'kernel': 'linear'}\n",
      "0.996 (+/-0.013) for {'C': 10, 'kernel': 'linear'}\n",
      "0.998 (+/-0.003) for {'C': 100, 'kernel': 'linear'}\n",
      "0.998 (+/-0.003) for {'C': 1000, 'kernel': 'linear'}\n",
      "\n"
     ]
    }
   ],
   "source": [
    "for score in scores:\n",
    "    print(\"# Tuning hyper-parameters for %s\" % score)\n",
    "    print()\n",
    "\n",
    "    clf = GridSearchCV(\n",
    "        SVC(), tuned_parameters, scoring='%s_macro' % score\n",
    "    )\n",
    "    clf.fit(X_train_zone, y_train_zone)\n",
    "\n",
    "    print()\n",
    "    print()\n",
    "    print(\"Grid scores on development set:\")\n",
    "    print()\n",
    "    means = clf.cv_results_['mean_test_score']\n",
    "    stds = clf.cv_results_['std_test_score']\n",
    "    for mean, std, params in zip(means, stds, clf.cv_results_['params']):\n",
    "        print(\"%0.3f (+/-%0.03f) for %r\"\n",
    "              % (mean, std * 2, params))\n",
    "    print()\n",
    "\n"
   ]
  },
  {
   "cell_type": "code",
   "execution_count": null,
   "id": "5bf94a03",
   "metadata": {},
   "outputs": [],
   "source": [
    "#GRID SEARCH FOR MARGIN"
   ]
  },
  {
   "cell_type": "code",
   "execution_count": 39,
   "id": "01a4d3ef",
   "metadata": {},
   "outputs": [
    {
     "name": "stdout",
     "output_type": "stream",
     "text": [
      "# Tuning hyper-parameters for precision\n",
      "\n"
     ]
    },
    {
     "name": "stderr",
     "output_type": "stream",
     "text": [
      "C:\\Users\\Rishi\\anaconda3\\Lib\\site-packages\\sklearn\\metrics\\_classification.py:1469: UndefinedMetricWarning: Precision is ill-defined and being set to 0.0 in labels with no predicted samples. Use `zero_division` parameter to control this behavior.\n",
      "  _warn_prf(average, modifier, msg_start, len(result))\n",
      "C:\\Users\\Rishi\\anaconda3\\Lib\\site-packages\\sklearn\\metrics\\_classification.py:1469: UndefinedMetricWarning: Precision is ill-defined and being set to 0.0 in labels with no predicted samples. Use `zero_division` parameter to control this behavior.\n",
      "  _warn_prf(average, modifier, msg_start, len(result))\n",
      "C:\\Users\\Rishi\\anaconda3\\Lib\\site-packages\\sklearn\\metrics\\_classification.py:1469: UndefinedMetricWarning: Precision is ill-defined and being set to 0.0 in labels with no predicted samples. Use `zero_division` parameter to control this behavior.\n",
      "  _warn_prf(average, modifier, msg_start, len(result))\n",
      "C:\\Users\\Rishi\\anaconda3\\Lib\\site-packages\\sklearn\\metrics\\_classification.py:1469: UndefinedMetricWarning: Precision is ill-defined and being set to 0.0 in labels with no predicted samples. Use `zero_division` parameter to control this behavior.\n",
      "  _warn_prf(average, modifier, msg_start, len(result))\n",
      "C:\\Users\\Rishi\\anaconda3\\Lib\\site-packages\\sklearn\\metrics\\_classification.py:1469: UndefinedMetricWarning: Precision is ill-defined and being set to 0.0 in labels with no predicted samples. Use `zero_division` parameter to control this behavior.\n",
      "  _warn_prf(average, modifier, msg_start, len(result))\n"
     ]
    },
    {
     "name": "stdout",
     "output_type": "stream",
     "text": [
      "\n",
      "\n",
      "Grid scores on development set:\n",
      "\n",
      "0.968 (+/-0.013) for {'C': 1, 'gamma': 0.001, 'kernel': 'rbf'}\n",
      "0.333 (+/-0.002) for {'C': 1, 'gamma': 0.0001, 'kernel': 'rbf'}\n",
      "0.995 (+/-0.010) for {'C': 10, 'gamma': 0.001, 'kernel': 'rbf'}\n",
      "0.969 (+/-0.015) for {'C': 10, 'gamma': 0.0001, 'kernel': 'rbf'}\n",
      "0.988 (+/-0.021) for {'C': 100, 'gamma': 0.001, 'kernel': 'rbf'}\n",
      "0.995 (+/-0.010) for {'C': 100, 'gamma': 0.0001, 'kernel': 'rbf'}\n",
      "0.992 (+/-0.021) for {'C': 1000, 'gamma': 0.001, 'kernel': 'rbf'}\n",
      "0.988 (+/-0.021) for {'C': 1000, 'gamma': 0.0001, 'kernel': 'rbf'}\n",
      "0.988 (+/-0.021) for {'C': 1, 'kernel': 'linear'}\n",
      "0.992 (+/-0.021) for {'C': 10, 'kernel': 'linear'}\n",
      "0.994 (+/-0.015) for {'C': 100, 'kernel': 'linear'}\n",
      "1.000 (+/-0.000) for {'C': 1000, 'kernel': 'linear'}\n",
      "\n",
      "# Tuning hyper-parameters for recall\n",
      "\n",
      "\n",
      "\n",
      "Grid scores on development set:\n",
      "\n",
      "0.932 (+/-0.028) for {'C': 1, 'gamma': 0.001, 'kernel': 'rbf'}\n",
      "0.500 (+/-0.000) for {'C': 1, 'gamma': 0.0001, 'kernel': 'rbf'}\n",
      "0.994 (+/-0.013) for {'C': 10, 'gamma': 0.001, 'kernel': 'rbf'}\n",
      "0.933 (+/-0.032) for {'C': 10, 'gamma': 0.0001, 'kernel': 'rbf'}\n",
      "0.994 (+/-0.011) for {'C': 100, 'gamma': 0.001, 'kernel': 'rbf'}\n",
      "0.993 (+/-0.014) for {'C': 100, 'gamma': 0.0001, 'kernel': 'rbf'}\n",
      "0.996 (+/-0.011) for {'C': 1000, 'gamma': 0.001, 'kernel': 'rbf'}\n",
      "0.994 (+/-0.011) for {'C': 1000, 'gamma': 0.0001, 'kernel': 'rbf'}\n",
      "0.994 (+/-0.011) for {'C': 1, 'kernel': 'linear'}\n",
      "0.996 (+/-0.011) for {'C': 10, 'kernel': 'linear'}\n",
      "0.997 (+/-0.008) for {'C': 100, 'kernel': 'linear'}\n",
      "1.000 (+/-0.000) for {'C': 1000, 'kernel': 'linear'}\n",
      "\n"
     ]
    }
   ],
   "source": [
    "for score in scores:\n",
    "    print(\"# Tuning hyper-parameters for %s\" % score)\n",
    "    print()\n",
    "\n",
    "    clf = GridSearchCV(\n",
    "        SVC(), tuned_parameters, scoring='%s_macro' % score\n",
    "    )\n",
    "    clf.fit(X_train_margin, y_train_margin)\n",
    "\n",
    "    print()\n",
    "    print()\n",
    "    print(\"Grid scores on development set:\")\n",
    "    print()\n",
    "    means = clf.cv_results_['mean_test_score']\n",
    "    stds = clf.cv_results_['std_test_score']\n",
    "    for mean, std, params in zip(means, stds, clf.cv_results_['params']):\n",
    "        print(\"%0.3f (+/-%0.03f) for %r\"\n",
    "              % (mean, std * 2, params))\n",
    "    print()\n",
    "\n"
   ]
  },
  {
   "cell_type": "code",
   "execution_count": 40,
   "id": "bce915e0",
   "metadata": {},
   "outputs": [],
   "source": [
    "#GRIDSEARCH FOR SIZE"
   ]
  },
  {
   "cell_type": "code",
   "execution_count": 41,
   "id": "f35d816e",
   "metadata": {},
   "outputs": [
    {
     "name": "stdout",
     "output_type": "stream",
     "text": [
      "# Tuning hyper-parameters for precision\n",
      "\n",
      "\n",
      "\n",
      "Grid scores on development set:\n",
      "\n",
      "0.968 (+/-0.021) for {'C': 1, 'gamma': 0.001, 'kernel': 'rbf'}\n",
      "0.660 (+/-0.041) for {'C': 1, 'gamma': 0.0001, 'kernel': 'rbf'}\n",
      "0.986 (+/-0.012) for {'C': 10, 'gamma': 0.001, 'kernel': 'rbf'}\n",
      "0.968 (+/-0.021) for {'C': 10, 'gamma': 0.0001, 'kernel': 'rbf'}\n",
      "0.990 (+/-0.014) for {'C': 100, 'gamma': 0.001, 'kernel': 'rbf'}\n",
      "0.986 (+/-0.012) for {'C': 100, 'gamma': 0.0001, 'kernel': 'rbf'}\n",
      "1.000 (+/-0.000) for {'C': 1000, 'gamma': 0.001, 'kernel': 'rbf'}\n",
      "0.990 (+/-0.014) for {'C': 1000, 'gamma': 0.0001, 'kernel': 'rbf'}\n",
      "1.000 (+/-0.000) for {'C': 1, 'kernel': 'linear'}\n",
      "1.000 (+/-0.000) for {'C': 10, 'kernel': 'linear'}\n",
      "1.000 (+/-0.000) for {'C': 100, 'kernel': 'linear'}\n",
      "1.000 (+/-0.000) for {'C': 1000, 'kernel': 'linear'}\n",
      "\n",
      "# Tuning hyper-parameters for recall\n",
      "\n",
      "\n",
      "\n",
      "Grid scores on development set:\n",
      "\n",
      "0.967 (+/-0.024) for {'C': 1, 'gamma': 0.001, 'kernel': 'rbf'}\n",
      "0.600 (+/-0.050) for {'C': 1, 'gamma': 0.0001, 'kernel': 'rbf'}\n",
      "0.986 (+/-0.013) for {'C': 10, 'gamma': 0.001, 'kernel': 'rbf'}\n",
      "0.967 (+/-0.024) for {'C': 10, 'gamma': 0.0001, 'kernel': 'rbf'}\n",
      "0.989 (+/-0.014) for {'C': 100, 'gamma': 0.001, 'kernel': 'rbf'}\n",
      "0.986 (+/-0.013) for {'C': 100, 'gamma': 0.0001, 'kernel': 'rbf'}\n",
      "1.000 (+/-0.000) for {'C': 1000, 'gamma': 0.001, 'kernel': 'rbf'}\n",
      "0.989 (+/-0.014) for {'C': 1000, 'gamma': 0.0001, 'kernel': 'rbf'}\n",
      "1.000 (+/-0.000) for {'C': 1, 'kernel': 'linear'}\n",
      "1.000 (+/-0.000) for {'C': 10, 'kernel': 'linear'}\n",
      "1.000 (+/-0.000) for {'C': 100, 'kernel': 'linear'}\n",
      "1.000 (+/-0.000) for {'C': 1000, 'kernel': 'linear'}\n",
      "\n"
     ]
    }
   ],
   "source": [
    "for score in scores:\n",
    "    print(\"# Tuning hyper-parameters for %s\" % score)\n",
    "    print()\n",
    "\n",
    "    clf = GridSearchCV(\n",
    "        SVC(), tuned_parameters, scoring='%s_macro' % score\n",
    "    )\n",
    "    clf.fit(X_train_size, y_train_size)\n",
    "\n",
    "    print()\n",
    "    print()\n",
    "    print(\"Grid scores on development set:\")\n",
    "    print()\n",
    "    means = clf.cv_results_['mean_test_score']\n",
    "    stds = clf.cv_results_['std_test_score']\n",
    "    for mean, std, params in zip(means, stds, clf.cv_results_['params']):\n",
    "        print(\"%0.3f (+/-%0.03f) for %r\"\n",
    "              % (mean, std * 2, params))\n",
    "    print()\n",
    "\n",
    "\n"
   ]
  },
  {
   "cell_type": "code",
   "execution_count": null,
   "id": "5251cdb2",
   "metadata": {},
   "outputs": [],
   "source": []
  },
  {
   "cell_type": "code",
   "execution_count": null,
   "id": "e390594f",
   "metadata": {},
   "outputs": [],
   "source": []
  }
 ],
 "metadata": {
  "kernelspec": {
   "display_name": "Python 3 (ipykernel)",
   "language": "python",
   "name": "python3"
  },
  "language_info": {
   "codemirror_mode": {
    "name": "ipython",
    "version": 3
   },
   "file_extension": ".py",
   "mimetype": "text/x-python",
   "name": "python",
   "nbconvert_exporter": "python",
   "pygments_lexer": "ipython3",
   "version": "3.11.4"
  }
 },
 "nbformat": 4,
 "nbformat_minor": 5
}
